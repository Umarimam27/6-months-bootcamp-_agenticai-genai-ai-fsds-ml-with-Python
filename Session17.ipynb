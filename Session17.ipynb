{
 "cells": [
  {
   "cell_type": "markdown",
   "id": "b6b79dd9",
   "metadata": {},
   "source": [
    "#Bitwise Operator"
   ]
  },
  {
   "cell_type": "code",
   "execution_count": 1,
   "id": "12cd3a7c",
   "metadata": {},
   "outputs": [
    {
     "data": {
      "text/plain": [
       "1"
      ]
     },
     "execution_count": 1,
     "metadata": {},
     "output_type": "execute_result"
    }
   ],
   "source": [
    "12^13"
   ]
  },
  {
   "cell_type": "code",
   "execution_count": 2,
   "id": "c431acf5",
   "metadata": {},
   "outputs": [
    {
     "name": "stdout",
     "output_type": "stream",
     "text": [
      "0b11001\n",
      "0b11110\n"
     ]
    }
   ],
   "source": [
    "print(bin(25))\n",
    "print(bin(30))"
   ]
  },
  {
   "cell_type": "code",
   "execution_count": 3,
   "id": "cecf7214",
   "metadata": {},
   "outputs": [
    {
     "data": {
      "text/plain": [
       "7"
      ]
     },
     "execution_count": 3,
     "metadata": {},
     "output_type": "execute_result"
    }
   ],
   "source": [
    "25^30"
   ]
  },
  {
   "cell_type": "code",
   "execution_count": 4,
   "id": "edf35421",
   "metadata": {},
   "outputs": [
    {
     "data": {
      "text/plain": [
       "'0b111'"
      ]
     },
     "execution_count": 4,
     "metadata": {},
     "output_type": "execute_result"
    }
   ],
   "source": [
    "bin(7)"
   ]
  },
  {
   "cell_type": "code",
   "execution_count": 5,
   "id": "e61c303a",
   "metadata": {},
   "outputs": [
    {
     "data": {
      "text/plain": [
       "20"
      ]
     },
     "execution_count": 5,
     "metadata": {},
     "output_type": "execute_result"
    }
   ],
   "source": [
    "10<<1"
   ]
  },
  {
   "cell_type": "code",
   "execution_count": 6,
   "id": "8a05d5b2",
   "metadata": {},
   "outputs": [
    {
     "data": {
      "text/plain": [
       "40"
      ]
     },
     "execution_count": 6,
     "metadata": {},
     "output_type": "execute_result"
    }
   ],
   "source": [
    "10<<2"
   ]
  },
  {
   "cell_type": "code",
   "execution_count": 7,
   "id": "f585b01f",
   "metadata": {},
   "outputs": [
    {
     "data": {
      "text/plain": [
       "'0b1010'"
      ]
     },
     "execution_count": 7,
     "metadata": {},
     "output_type": "execute_result"
    }
   ],
   "source": [
    "bin(10)"
   ]
  },
  {
   "cell_type": "code",
   "execution_count": 8,
   "id": "2d42c9c8",
   "metadata": {},
   "outputs": [
    {
     "data": {
      "text/plain": [
       "5"
      ]
     },
     "execution_count": 8,
     "metadata": {},
     "output_type": "execute_result"
    }
   ],
   "source": [
    "10>>1"
   ]
  },
  {
   "cell_type": "code",
   "execution_count": 9,
   "id": "27c9b039",
   "metadata": {},
   "outputs": [
    {
     "data": {
      "text/plain": [
       "2"
      ]
     },
     "execution_count": 9,
     "metadata": {},
     "output_type": "execute_result"
    }
   ],
   "source": [
    "10>>2"
   ]
  },
  {
   "cell_type": "code",
   "execution_count": 10,
   "id": "dfde8e5b",
   "metadata": {},
   "outputs": [
    {
     "data": {
      "text/plain": [
       "1"
      ]
     },
     "execution_count": 10,
     "metadata": {},
     "output_type": "execute_result"
    }
   ],
   "source": [
    "10>>3"
   ]
  },
  {
   "cell_type": "code",
   "execution_count": 21,
   "id": "749a7289",
   "metadata": {},
   "outputs": [],
   "source": [
    "x=math.sqrt(25)"
   ]
  },
  {
   "cell_type": "code",
   "execution_count": 18,
   "id": "9fd40cd3",
   "metadata": {},
   "outputs": [],
   "source": [
    "import math"
   ]
  },
  {
   "cell_type": "code",
   "execution_count": 19,
   "id": "45d0e33d",
   "metadata": {},
   "outputs": [
    {
     "data": {
      "text/plain": [
       "5.0"
      ]
     },
     "execution_count": 19,
     "metadata": {},
     "output_type": "execute_result"
    }
   ],
   "source": [
    "x=math.sqrt(25)\n",
    "x"
   ]
  },
  {
   "cell_type": "code",
   "execution_count": 20,
   "id": "6debbda1",
   "metadata": {},
   "outputs": [
    {
     "data": {
      "text/plain": [
       "3.872983346207417"
      ]
     },
     "execution_count": 20,
     "metadata": {},
     "output_type": "execute_result"
    }
   ],
   "source": [
    "x1=math.sqrt(15)\n",
    "x1"
   ]
  },
  {
   "cell_type": "code",
   "execution_count": null,
   "id": "57a5cf3a",
   "metadata": {},
   "outputs": [],
   "source": []
  }
 ],
 "metadata": {
  "kernelspec": {
   "display_name": "venv",
   "language": "python",
   "name": "python3"
  },
  "language_info": {
   "codemirror_mode": {
    "name": "ipython",
    "version": 3
   },
   "file_extension": ".py",
   "mimetype": "text/x-python",
   "name": "python",
   "nbconvert_exporter": "python",
   "pygments_lexer": "ipython3",
   "version": "3.12.7"
  }
 },
 "nbformat": 4,
 "nbformat_minor": 5
}
