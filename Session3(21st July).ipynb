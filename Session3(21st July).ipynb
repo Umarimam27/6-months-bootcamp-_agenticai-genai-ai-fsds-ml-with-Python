{
 "cells": [
  {
   "cell_type": "code",
   "execution_count": 4,
   "id": "f910dc4b",
   "metadata": {},
   "outputs": [],
   "source": [
    "#from PIL import Image\n",
    "#from IPython.display import display\n",
    "\n",
    "#img = Image.open(r\"C:\\Users\\umari\\OneDrive\\Pictures\\Screenshots\\Screenshot 2025-08-12 154146.png\")\n",
    "#display(img)"
   ]
  }
 ],
 "metadata": {
  "kernelspec": {
   "display_name": "venv",
   "language": "python",
   "name": "python3"
  },
  "language_info": {
   "codemirror_mode": {
    "name": "ipython",
    "version": 3
   },
   "file_extension": ".py",
   "mimetype": "text/x-python",
   "name": "python",
   "nbconvert_exporter": "python",
   "pygments_lexer": "ipython3",
   "version": "3.12.7"
  }
 },
 "nbformat": 4,
 "nbformat_minor": 5
}
