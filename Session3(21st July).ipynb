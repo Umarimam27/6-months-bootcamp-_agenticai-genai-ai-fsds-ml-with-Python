{
 "cells": [
  {
   "cell_type": "markdown",
   "id": "3aaf614a",
   "metadata": {},
   "source": [
    "Noting"
   ]
  },
  {
   "cell_type": "code",
   "execution_count": null,
   "id": "4c6856ad",
   "metadata": {},
   "outputs": [],
   "source": []
  }
 ],
 "metadata": {
  "language_info": {
   "name": "python"
  }
 },
 "nbformat": 4,
 "nbformat_minor": 5
}
