{
 "cells": [
  {
   "cell_type": "code",
   "execution_count": 4,
   "id": "f910dc4b",
   "metadata": {},
   "outputs": [],
   "source": [
    "#from PIL import Image\n",
    "#from IPython.display import display\n",
    "\n",
    "#img = Image.open(r\"C:\\Users\\umari\\OneDrive\\Pictures\\Screenshots\\Screenshot 2025-08-12 154146.png\")\n",
    "#display(img)"
   ]
  },
  {
   "cell_type": "markdown",
   "id": "2922fb3a",
   "metadata": {},
   "source": [
    "Data Analytics,Data Science,Generative Ai,Agentic Ai\n",
    "(LLm Models--50% concepts+Theory & 50% Code)"
   ]
  }
 ],
 "metadata": {
  "kernelspec": {
   "display_name": "venv",
   "language": "python",
   "name": "python3"
  },
  "language_info": {
   "codemirror_mode": {
    "name": "ipython",
    "version": 3
   },
   "file_extension": ".py",
   "mimetype": "text/x-python",
   "name": "python",
   "nbconvert_exporter": "python",
   "pygments_lexer": "ipython3",
   "version": "3.12.7"
  }
 },
 "nbformat": 4,
 "nbformat_minor": 5
}
