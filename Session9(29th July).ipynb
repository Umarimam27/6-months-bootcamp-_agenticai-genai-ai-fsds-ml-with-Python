{
 "cells": [
  {
   "cell_type": "markdown",
   "id": "d82b9e68",
   "metadata": {},
   "source": [
    "# Complex"
   ]
  },
  {
   "cell_type": "code",
   "execution_count": 1,
   "id": "a4630d48",
   "metadata": {},
   "outputs": [
    {
     "data": {
      "text/plain": [
       "(1+2j)"
      ]
     },
     "execution_count": 1,
     "metadata": {},
     "output_type": "execute_result"
    }
   ],
   "source": [
    "c=1+2j\n",
    "c"
   ]
  },
  {
   "cell_type": "code",
   "execution_count": 2,
   "id": "3877caf2",
   "metadata": {},
   "outputs": [
    {
     "data": {
      "text/plain": [
       "complex"
      ]
     },
     "execution_count": 2,
     "metadata": {},
     "output_type": "execute_result"
    }
   ],
   "source": [
    "type(c)"
   ]
  },
  {
   "cell_type": "code",
   "execution_count": 3,
   "id": "f6734716",
   "metadata": {},
   "outputs": [
    {
     "data": {
      "text/plain": [
       "1.0"
      ]
     },
     "execution_count": 3,
     "metadata": {},
     "output_type": "execute_result"
    }
   ],
   "source": [
    "c.real"
   ]
  },
  {
   "cell_type": "code",
   "execution_count": 4,
   "id": "b461a78d",
   "metadata": {},
   "outputs": [
    {
     "data": {
      "text/plain": [
       "2.0"
      ]
     },
     "execution_count": 4,
     "metadata": {},
     "output_type": "execute_result"
    }
   ],
   "source": [
    "c.imag"
   ]
  },
  {
   "cell_type": "code",
   "execution_count": 5,
   "id": "47d28188",
   "metadata": {},
   "outputs": [],
   "source": [
    "c=10+20j\n",
    "d=30+40j"
   ]
  },
  {
   "cell_type": "code",
   "execution_count": 6,
   "id": "7a2a0a51",
   "metadata": {},
   "outputs": [
    {
     "data": {
      "text/plain": [
       "(40+60j)"
      ]
     },
     "execution_count": 6,
     "metadata": {},
     "output_type": "execute_result"
    }
   ],
   "source": [
    "e=c + d\n",
    "e"
   ]
  },
  {
   "cell_type": "code",
   "execution_count": 8,
   "id": "a4973529",
   "metadata": {},
   "outputs": [],
   "source": [
    "s= 'nareshit'"
   ]
  },
  {
   "cell_type": "code",
   "execution_count": 9,
   "id": "6a30daa9",
   "metadata": {},
   "outputs": [
    {
     "data": {
      "text/plain": [
       "'nareshit'"
      ]
     },
     "execution_count": 9,
     "metadata": {},
     "output_type": "execute_result"
    }
   ],
   "source": [
    "s"
   ]
  },
  {
   "cell_type": "code",
   "execution_count": 10,
   "id": "db4a254f",
   "metadata": {},
   "outputs": [
    {
     "data": {
      "text/plain": [
       "'n'"
      ]
     },
     "execution_count": 10,
     "metadata": {},
     "output_type": "execute_result"
    }
   ],
   "source": [
    "s[0]"
   ]
  },
  {
   "cell_type": "code",
   "execution_count": 11,
   "id": "678455d9",
   "metadata": {},
   "outputs": [
    {
     "data": {
      "text/plain": [
       "'a'"
      ]
     },
     "execution_count": 11,
     "metadata": {},
     "output_type": "execute_result"
    }
   ],
   "source": [
    "s[1]"
   ]
  },
  {
   "cell_type": "code",
   "execution_count": 12,
   "id": "65c381d9",
   "metadata": {},
   "outputs": [
    {
     "data": {
      "text/plain": [
       "'nareshit'"
      ]
     },
     "execution_count": 12,
     "metadata": {},
     "output_type": "execute_result"
    }
   ],
   "source": [
    "s"
   ]
  },
  {
   "cell_type": "code",
   "execution_count": null,
   "id": "6907bc24",
   "metadata": {},
   "outputs": [],
   "source": [
    "s1='technology'\n"
   ]
  },
  {
   "cell_type": "code",
   "execution_count": 19,
   "id": "a19551c8",
   "metadata": {},
   "outputs": [
    {
     "data": {
      "text/plain": [
       "'nareshit'"
      ]
     },
     "execution_count": 19,
     "metadata": {},
     "output_type": "execute_result"
    }
   ],
   "source": [
    "s\n"
   ]
  },
  {
   "cell_type": "code",
   "execution_count": 20,
   "id": "d42dceff",
   "metadata": {},
   "outputs": [
    {
     "data": {
      "text/plain": [
       "'technology'"
      ]
     },
     "execution_count": 20,
     "metadata": {},
     "output_type": "execute_result"
    }
   ],
   "source": [
    "s1"
   ]
  },
  {
   "cell_type": "code",
   "execution_count": 21,
   "id": "c5cb982b",
   "metadata": {},
   "outputs": [],
   "source": [
    "s2='under guidance of Prakash Senapati'"
   ]
  },
  {
   "cell_type": "code",
   "execution_count": 22,
   "id": "2791fe74",
   "metadata": {},
   "outputs": [
    {
     "data": {
      "text/plain": [
       "'under guidance of Prakash Senapati'"
      ]
     },
     "execution_count": 22,
     "metadata": {},
     "output_type": "execute_result"
    }
   ],
   "source": [
    "s2"
   ]
  },
  {
   "cell_type": "code",
   "execution_count": 23,
   "id": "e0b5f6e9",
   "metadata": {},
   "outputs": [
    {
     "name": "stdout",
     "output_type": "stream",
     "text": [
      "nareshit\n",
      "technology\n",
      "under guidance of Prakash Senapati\n"
     ]
    }
   ],
   "source": [
    "print(s)\n",
    "print(s1)\n",
    "print(s2)"
   ]
  },
  {
   "cell_type": "code",
   "execution_count": 24,
   "id": "144252ea",
   "metadata": {},
   "outputs": [
    {
     "data": {
      "text/plain": [
       "'nareshittechnologyunder guidance of Prakash Senapati'"
      ]
     },
     "execution_count": 24,
     "metadata": {},
     "output_type": "execute_result"
    }
   ],
   "source": [
    "s+s1+s2"
   ]
  },
  {
   "cell_type": "code",
   "execution_count": 25,
   "id": "e484d42e",
   "metadata": {},
   "outputs": [
    {
     "data": {
      "text/plain": [
       "'nareshittechnology'"
      ]
     },
     "execution_count": 25,
     "metadata": {},
     "output_type": "execute_result"
    }
   ],
   "source": [
    "s+s1"
   ]
  },
  {
   "cell_type": "code",
   "execution_count": 26,
   "id": "0780145c",
   "metadata": {},
   "outputs": [
    {
     "name": "stdout",
     "output_type": "stream",
     "text": [
      "10\n"
     ]
    }
   ],
   "source": [
    "print(10)"
   ]
  },
  {
   "cell_type": "code",
   "execution_count": 28,
   "id": "7e5b7231",
   "metadata": {},
   "outputs": [
    {
     "name": "stdout",
     "output_type": "stream",
     "text": [
      "10 2.4 nit True (1+2j)\n"
     ]
    }
   ],
   "source": [
    "print(10,2.4,'nit',True,1+2j,)"
   ]
  },
  {
   "cell_type": "code",
   "execution_count": 30,
   "id": "9eb3b782",
   "metadata": {},
   "outputs": [
    {
     "data": {
      "text/plain": [
       "50"
      ]
     },
     "execution_count": 30,
     "metadata": {},
     "output_type": "execute_result"
    }
   ],
   "source": [
    "num1=20 \n",
    "num2=30\n",
    "add=num1+num2\n",
    "add"
   ]
  },
  {
   "cell_type": "code",
   "execution_count": 31,
   "id": "9fb890b0",
   "metadata": {},
   "outputs": [
    {
     "name": "stdout",
     "output_type": "stream",
     "text": [
      "The addition of 20 and 30 is= 50\n"
     ]
    }
   ],
   "source": [
    "print('The addition of',num1,'and',num2,'is=',add)"
   ]
  },
  {
   "cell_type": "markdown",
   "id": "e8b17eb0",
   "metadata": {},
   "source": [
    "# Print Format Method"
   ]
  },
  {
   "cell_type": "code",
   "execution_count": 32,
   "id": "ec72f204",
   "metadata": {},
   "outputs": [
    {
     "name": "stdout",
     "output_type": "stream",
     "text": [
      "The addition of 20 and 30 is = 50\n"
     ]
    }
   ],
   "source": [
    "num1=20 \n",
    "num2=30\n",
    "add=num1 + num2\n",
    "print('The addition of {} and {} is = {}'.format(num1, num2, add))"
   ]
  },
  {
   "cell_type": "code",
   "execution_count": 34,
   "id": "3eff33dc",
   "metadata": {},
   "outputs": [
    {
     "name": "stdout",
     "output_type": "stream",
     "text": [
      "The addition of 20 and 30 and 40 is = 90\n"
     ]
    }
   ],
   "source": [
    "num1=20 \n",
    "num2=30\n",
    "num3=40\n",
    "add=num1 + num2+ num3\n",
    "print('The addition of {} and {} and {} is = {}'.format(num1, num2,num3, add))"
   ]
  },
  {
   "cell_type": "markdown",
   "id": "3848b6cb",
   "metadata": {},
   "source": [
    "# End Statement\n"
   ]
  },
  {
   "cell_type": "code",
   "execution_count": 37,
   "id": "a52d711d",
   "metadata": {},
   "outputs": [
    {
     "name": "stdout",
     "output_type": "stream",
     "text": [
      "hello\n",
      "good Morning\n"
     ]
    }
   ],
   "source": [
    "print('hello') # 1st Statement\n",
    "print('good Morning') # 2nd Statement\n"
   ]
  },
  {
   "cell_type": "code",
   "execution_count": 39,
   "id": "1acd8992",
   "metadata": {},
   "outputs": [
    {
     "name": "stdout",
     "output_type": "stream",
     "text": [
      "hello good Night\n"
     ]
    }
   ],
   "source": [
    "print('hello',end=' ') # 1st Statement\n",
    "print('good Night') # 2nd Statement"
   ]
  },
  {
   "cell_type": "markdown",
   "id": "18c069d4",
   "metadata": {},
   "source": [
    "# Seperator"
   ]
  },
  {
   "cell_type": "code",
   "execution_count": 42,
   "id": "acf900ae",
   "metadata": {},
   "outputs": [
    {
     "name": "stdout",
     "output_type": "stream",
     "text": [
      "hello***&&&&---->hai***&&&&---->how are you\n"
     ]
    }
   ],
   "source": [
    "print('hello','hai','how are you',sep='***&&&&---->') # 1st Statement"
   ]
  }
 ],
 "metadata": {
  "kernelspec": {
   "display_name": "base",
   "language": "python",
   "name": "python3"
  },
  "language_info": {
   "codemirror_mode": {
    "name": "ipython",
    "version": 3
   },
   "file_extension": ".py",
   "mimetype": "text/x-python",
   "name": "python",
   "nbconvert_exporter": "python",
   "pygments_lexer": "ipython3",
   "version": "3.12.7"
  }
 },
 "nbformat": 4,
 "nbformat_minor": 5
}
