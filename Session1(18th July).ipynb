{
 "cells": [
  {
   "cell_type": "markdown",
   "id": "bff7f48d",
   "metadata": {},
   "source": [
    "1. Name of the Course\n",
    "2. Teachers Introduction\n",
    "3. Who Can Learn this Cousrse\n",
    "4. What is the Prerequisites required to learn this course\n",
    "5. Generative ai v/s Agentic Ai\n",
    "6. Library or Package we used to learn this course\n",
    "7. Tree structures python,fsds,gen ai,agentic ai\n",
    "8. q& a "
   ]
  }
 ],
 "metadata": {
  "language_info": {
   "name": "python"
  }
 },
 "nbformat": 4,
 "nbformat_minor": 5
}
