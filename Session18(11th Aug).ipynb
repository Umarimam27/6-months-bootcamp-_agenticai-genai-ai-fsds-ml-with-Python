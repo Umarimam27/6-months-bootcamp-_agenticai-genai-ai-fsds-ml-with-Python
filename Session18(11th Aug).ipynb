{
 "cells": [
  {
   "cell_type": "markdown",
   "id": "6b76d17d",
   "metadata": {},
   "source": [
    "# NUMPY CrashCourse"
   ]
  },
  {
   "cell_type": "code",
   "execution_count": 3,
   "id": "aa4cd449",
   "metadata": {},
   "outputs": [],
   "source": [
    "import numpy as np"
   ]
  },
  {
   "cell_type": "code",
   "execution_count": 4,
   "id": "a6c50c67",
   "metadata": {},
   "outputs": [
    {
     "data": {
      "text/plain": [
       "'1.26.4'"
      ]
     },
     "execution_count": 4,
     "metadata": {},
     "output_type": "execute_result"
    }
   ],
   "source": [
    "np.__version__"
   ]
  },
  {
   "cell_type": "code",
   "execution_count": 5,
   "id": "95c9e1bd",
   "metadata": {},
   "outputs": [
    {
     "data": {
      "text/plain": [
       "[0, 1, 2, 3, 4, 5]"
      ]
     },
     "execution_count": 5,
     "metadata": {},
     "output_type": "execute_result"
    }
   ],
   "source": [
    "my_list = [0,1, 2, 3, 4, 5]\n",
    "my_list"
   ]
  },
  {
   "cell_type": "code",
   "execution_count": 6,
   "id": "138576cd",
   "metadata": {},
   "outputs": [
    {
     "data": {
      "text/plain": [
       "list"
      ]
     },
     "execution_count": 6,
     "metadata": {},
     "output_type": "execute_result"
    }
   ],
   "source": [
    "type(my_list)"
   ]
  },
  {
   "cell_type": "code",
   "execution_count": 7,
   "id": "b0e6afd7",
   "metadata": {},
   "outputs": [
    {
     "data": {
      "text/plain": [
       "[0, 1, 2, 3, 4, 5]"
      ]
     },
     "execution_count": 7,
     "metadata": {},
     "output_type": "execute_result"
    }
   ],
   "source": [
    "my_list"
   ]
  },
  {
   "cell_type": "code",
   "execution_count": 8,
   "id": "ae6b7f46",
   "metadata": {},
   "outputs": [
    {
     "data": {
      "text/plain": [
       "array([0, 1, 2, 3, 4, 5])"
      ]
     },
     "execution_count": 8,
     "metadata": {},
     "output_type": "execute_result"
    }
   ],
   "source": [
    "arr= np.array(my_list)\n",
    "arr"
   ]
  },
  {
   "cell_type": "code",
   "execution_count": 9,
   "id": "22b4a5e6",
   "metadata": {},
   "outputs": [
    {
     "name": "stdout",
     "output_type": "stream",
     "text": [
      "<class 'numpy.ndarray'>\n"
     ]
    }
   ],
   "source": [
    "print(type(arr))"
   ]
  },
  {
   "cell_type": "markdown",
   "id": "64a6c66c",
   "metadata": {},
   "source": [
    "# Arrange Function"
   ]
  },
  {
   "cell_type": "code",
   "execution_count": 10,
   "id": "1fc1aa88",
   "metadata": {},
   "outputs": [
    {
     "data": {
      "text/plain": [
       "array([0, 1, 2, 3, 4, 5, 6, 7, 8, 9])"
      ]
     },
     "execution_count": 10,
     "metadata": {},
     "output_type": "execute_result"
    }
   ],
   "source": [
    "np.arange(10)"
   ]
  },
  {
   "cell_type": "code",
   "execution_count": 11,
   "id": "b963a8ff",
   "metadata": {},
   "outputs": [
    {
     "data": {
      "text/plain": [
       "array([10, 11, 12, 13, 14, 15, 16, 17, 18, 19])"
      ]
     },
     "execution_count": 11,
     "metadata": {},
     "output_type": "execute_result"
    }
   ],
   "source": [
    "np.arange(10,20)"
   ]
  },
  {
   "cell_type": "code",
   "execution_count": 12,
   "id": "c3b0b485",
   "metadata": {},
   "outputs": [
    {
     "data": {
      "text/plain": [
       "array([10, 15])"
      ]
     },
     "execution_count": 12,
     "metadata": {},
     "output_type": "execute_result"
    }
   ],
   "source": [
    "np.arange(10,20,5)"
   ]
  },
  {
   "cell_type": "code",
   "execution_count": 15,
   "id": "36f8e435",
   "metadata": {},
   "outputs": [
    {
     "data": {
      "text/plain": [
       "array([10, 15, 20, 25, 30, 35, 40, 45])"
      ]
     },
     "execution_count": 15,
     "metadata": {},
     "output_type": "execute_result"
    }
   ],
   "source": [
    "np.arange(10,50,5)"
   ]
  },
  {
   "cell_type": "code",
   "execution_count": null,
   "id": "16c2913b",
   "metadata": {},
   "outputs": [
    {
     "data": {
      "text/plain": [
       "array([], dtype=int32)"
      ]
     },
     "execution_count": 16,
     "metadata": {},
     "output_type": "execute_result"
    }
   ],
   "source": [
    "np.arange(20,10) #1st argument should be less than 2nd"
   ]
  },
  {
   "cell_type": "code",
   "execution_count": 17,
   "id": "9af50f4a",
   "metadata": {},
   "outputs": [
    {
     "data": {
      "text/plain": [
       "array([-20, -19, -18, -17, -16, -15, -14, -13, -12, -11, -10,  -9,  -8,\n",
       "        -7,  -6,  -5,  -4,  -3,  -2,  -1,   0,   1,   2,   3,   4,   5,\n",
       "         6,   7,   8,   9])"
      ]
     },
     "execution_count": 17,
     "metadata": {},
     "output_type": "execute_result"
    }
   ],
   "source": [
    "np.arange(-20,10)"
   ]
  },
  {
   "cell_type": "code",
   "execution_count": null,
   "id": "2405728f",
   "metadata": {},
   "outputs": [
    {
     "data": {
      "text/plain": [
       "array([0., 0., 0., 0., 0.])"
      ]
     },
     "execution_count": 18,
     "metadata": {},
     "output_type": "execute_result"
    }
   ],
   "source": [
    "np.zeros(5) #hyperparameter tuning"
   ]
  },
  {
   "cell_type": "code",
   "execution_count": 19,
   "id": "1935a9ad",
   "metadata": {},
   "outputs": [
    {
     "data": {
      "text/plain": [
       "array([0, 0, 0, 0, 0])"
      ]
     },
     "execution_count": 19,
     "metadata": {},
     "output_type": "execute_result"
    }
   ],
   "source": [
    "np.zeros(5,dtype=int)#hyperparameter tuning"
   ]
  },
  {
   "cell_type": "code",
   "execution_count": null,
   "id": "17a2e646",
   "metadata": {},
   "outputs": [
    {
     "data": {
      "text/plain": [
       "array([[0., 0.],\n",
       "       [0., 0.]])"
      ]
     },
     "execution_count": 20,
     "metadata": {},
     "output_type": "execute_result"
    }
   ],
   "source": [
    "np.zeros([2,2]) #2-dimensional array"
   ]
  },
  {
   "cell_type": "code",
   "execution_count": null,
   "id": "798e5f16",
   "metadata": {},
   "outputs": [
    {
     "data": {
      "text/plain": [
       "array([[0., 0., 0., 0.],\n",
       "       [0., 0., 0., 0.],\n",
       "       [0., 0., 0., 0.],\n",
       "       [0., 0., 0., 0.],\n",
       "       [0., 0., 0., 0.]])"
      ]
     },
     "execution_count": 21,
     "metadata": {},
     "output_type": "execute_result"
    }
   ],
   "source": [
    "np.zeros([5,4]) #ndarray with 5 rows and 4 columns"
   ]
  },
  {
   "cell_type": "code",
   "execution_count": 22,
   "id": "dd93669a",
   "metadata": {},
   "outputs": [
    {
     "data": {
      "text/plain": [
       "array([[0., 0., 0., 0., 0., 0., 0., 0., 0., 0.],\n",
       "       [0., 0., 0., 0., 0., 0., 0., 0., 0., 0.],\n",
       "       [0., 0., 0., 0., 0., 0., 0., 0., 0., 0.],\n",
       "       [0., 0., 0., 0., 0., 0., 0., 0., 0., 0.],\n",
       "       [0., 0., 0., 0., 0., 0., 0., 0., 0., 0.],\n",
       "       [0., 0., 0., 0., 0., 0., 0., 0., 0., 0.],\n",
       "       [0., 0., 0., 0., 0., 0., 0., 0., 0., 0.],\n",
       "       [0., 0., 0., 0., 0., 0., 0., 0., 0., 0.],\n",
       "       [0., 0., 0., 0., 0., 0., 0., 0., 0., 0.],\n",
       "       [0., 0., 0., 0., 0., 0., 0., 0., 0., 0.]])"
      ]
     },
     "execution_count": 22,
     "metadata": {},
     "output_type": "execute_result"
    }
   ],
   "source": [
    "np.zeros([10,10]) #10x10 matrix"
   ]
  },
  {
   "cell_type": "code",
   "execution_count": 23,
   "id": "5695cf1e",
   "metadata": {},
   "outputs": [
    {
     "data": {
      "text/plain": [
       "array([1., 1.])"
      ]
     },
     "execution_count": 23,
     "metadata": {},
     "output_type": "execute_result"
    }
   ],
   "source": [
    "np.ones(2) #array of ones"
   ]
  },
  {
   "cell_type": "code",
   "execution_count": 27,
   "id": "62151d61",
   "metadata": {},
   "outputs": [
    {
     "data": {
      "text/plain": [
       "array([1, 1])"
      ]
     },
     "execution_count": 27,
     "metadata": {},
     "output_type": "execute_result"
    }
   ],
   "source": [
    "np.ones(2, dtype=int) #array of ones with integer type"
   ]
  },
  {
   "cell_type": "code",
   "execution_count": 26,
   "metadata": {},
   "outputs": [
    {
     "data": {
      "text/plain": [
       "array([[1., 1., 1., 1., 1.],\n",
       "       [1., 1., 1., 1., 1.],\n",
       "       [1., 1., 1., 1., 1.],\n",
       "       [1., 1., 1., 1., 1.]])"
      ]
     },
     "execution_count": 26,
     "metadata": {},
     "output_type": "execute_result"
    }
   ],
   "source": [
    "np.ones([4,5])"
   ]
  },
  {
   "cell_type": "code",
   "execution_count": 29,
   "id": "9fb863c8",
   "metadata": {},
   "outputs": [
    {
     "data": {
      "text/plain": [
       "array([0, 1, 2, 3, 4, 5])"
      ]
     },
     "execution_count": 29,
     "metadata": {},
     "output_type": "execute_result"
    }
   ],
   "source": [
    "arr"
   ]
  },
  {
   "cell_type": "code",
   "execution_count": 35,
   "id": "1b202b80",
   "metadata": {},
   "outputs": [],
   "source": [
    "#rand(3,2)"
   ]
  },
  {
   "cell_type": "code",
   "execution_count": 36,
   "id": "5a97142a",
   "metadata": {},
   "outputs": [],
   "source": [
    "#random.rand(3,2) #3 rows and 2 columns of random numbers"
   ]
  },
  {
   "cell_type": "code",
   "execution_count": 34,
   "id": "e6dc684f",
   "metadata": {},
   "outputs": [
    {
     "data": {
      "text/plain": [
       "array([[0.56221809, 0.59790121],\n",
       "       [0.79779397, 0.32252512],\n",
       "       [0.13413751, 0.08195099]])"
      ]
     },
     "execution_count": 34,
     "metadata": {},
     "output_type": "execute_result"
    }
   ],
   "source": [
    "np.random.rand(3,2) #3 rows and 2 columns of random numbers"
   ]
  },
  {
   "cell_type": "code",
   "execution_count": 38,
   "id": "c2d3cb6a",
   "metadata": {},
   "outputs": [
    {
     "data": {
      "text/plain": [
       "array([0.85930191, 0.34215677, 0.05399495])"
      ]
     },
     "execution_count": 38,
     "metadata": {},
     "output_type": "execute_result"
    }
   ],
   "source": [
    "np.random.rand(3)"
   ]
  },
  {
   "cell_type": "code",
   "execution_count": 42,
   "id": "19547251",
   "metadata": {},
   "outputs": [
    {
     "data": {
      "text/plain": [
       "4"
      ]
     },
     "execution_count": 42,
     "metadata": {},
     "output_type": "execute_result"
    }
   ],
   "source": [
    "np.random.randint(4,6)"
   ]
  },
  {
   "cell_type": "code",
   "execution_count": 50,
   "id": "c31aba0c",
   "metadata": {},
   "outputs": [
    {
     "data": {
      "text/plain": [
       "3"
      ]
     },
     "execution_count": 50,
     "metadata": {},
     "output_type": "execute_result"
    }
   ],
   "source": [
    "np.random.randint(0,10) #random integer between 0 and 10"
   ]
  },
  {
   "cell_type": "code",
   "execution_count": 54,
   "id": "d3cf9077",
   "metadata": {},
   "outputs": [
    {
     "data": {
      "text/plain": [
       "array([5, 7, 4, 5])"
      ]
     },
     "execution_count": 54,
     "metadata": {},
     "output_type": "execute_result"
    }
   ],
   "source": [
    "np.random.randint(0,10,4) #4 random integers between 0 and 10"
   ]
  },
  {
   "cell_type": "code",
   "execution_count": 56,
   "id": "8310d88a",
   "metadata": {},
   "outputs": [
    {
     "data": {
      "text/plain": [
       "array([6, 9, 0, 8, 4])"
      ]
     },
     "execution_count": 56,
     "metadata": {},
     "output_type": "execute_result"
    }
   ],
   "source": [
    "np.random.randint(0,10,5) #5 random integers between 0 and 10"
   ]
  },
  {
   "cell_type": "code",
   "execution_count": 64,
   "id": "2a8a8407",
   "metadata": {},
   "outputs": [
    {
     "data": {
      "text/plain": [
       "array([[14, 39, 23, 36, 16, 27, 17, 31, 30, 24],\n",
       "       [21, 17, 11, 19, 24, 20, 30, 22, 20, 38],\n",
       "       [13, 28, 39, 31, 11, 14, 26, 33, 39, 15],\n",
       "       [17, 33, 34, 17, 15, 37, 29, 19, 33, 26],\n",
       "       [24, 17, 22, 32, 36, 13, 34, 28, 10, 36],\n",
       "       [19, 32, 14, 30, 13, 38, 13, 14, 18, 29],\n",
       "       [31, 26, 23, 10, 26, 34, 28, 16, 26, 20],\n",
       "       [38, 24, 28, 25, 12, 12, 14, 36, 14, 25]])"
      ]
     },
     "execution_count": 64,
     "metadata": {},
     "output_type": "execute_result"
    }
   ],
   "source": [
    "n=np.random.randint(10,40,(8,10)) #8 rows and 10 columns of random integers between 10 and 40\n",
    "n"
   ]
  },
  {
   "cell_type": "code",
   "execution_count": 65,
   "id": "f45842dd",
   "metadata": {},
   "outputs": [
    {
     "data": {
      "text/plain": [
       "array([14, 39, 23, 36, 16, 27, 17, 31, 30, 24])"
      ]
     },
     "execution_count": 65,
     "metadata": {},
     "output_type": "execute_result"
    }
   ],
   "source": [
    "n[0] #1st row"
   ]
  },
  {
   "cell_type": "code",
   "execution_count": 66,
   "id": "33b71331",
   "metadata": {},
   "outputs": [
    {
     "data": {
      "text/plain": [
       "array([19, 32, 14, 30, 13, 38, 13, 14, 18, 29])"
      ]
     },
     "execution_count": 66,
     "metadata": {},
     "output_type": "execute_result"
    }
   ],
   "source": [
    "n[5] #6th row"
   ]
  },
  {
   "cell_type": "code",
   "execution_count": null,
   "id": "c96a4c01",
   "metadata": {},
   "outputs": [
    {
     "data": {
      "text/plain": [
       "array([[14, 39, 23, 36, 16, 27, 17, 31, 30, 24],\n",
       "       [21, 17, 11, 19, 24, 20, 30, 22, 20, 38],\n",
       "       [13, 28, 39, 31, 11, 14, 26, 33, 39, 15],\n",
       "       [17, 33, 34, 17, 15, 37, 29, 19, 33, 26],\n",
       "       [24, 17, 22, 32, 36, 13, 34, 28, 10, 36],\n",
       "       [19, 32, 14, 30, 13, 38, 13, 14, 18, 29],\n",
       "       [31, 26, 23, 10, 26, 34, 28, 16, 26, 20],\n",
       "       [38, 24, 28, 25, 12, 12, 14, 36, 14, 25]])"
      ]
     },
     "execution_count": 67,
     "metadata": {},
     "output_type": "execute_result"
    }
   ],
   "source": [
    "n"
   ]
  },
  {
   "cell_type": "code",
   "execution_count": 68,
   "id": "ef78ed9c",
   "metadata": {},
   "outputs": [
    {
     "data": {
      "text/plain": [
       "array([[14, 39, 23, 36, 16, 27, 17, 31, 30, 24],\n",
       "       [21, 17, 11, 19, 24, 20, 30, 22, 20, 38],\n",
       "       [13, 28, 39, 31, 11, 14, 26, 33, 39, 15],\n",
       "       [17, 33, 34, 17, 15, 37, 29, 19, 33, 26],\n",
       "       [24, 17, 22, 32, 36, 13, 34, 28, 10, 36],\n",
       "       [19, 32, 14, 30, 13, 38, 13, 14, 18, 29]])"
      ]
     },
     "execution_count": 68,
     "metadata": {},
     "output_type": "execute_result"
    }
   ],
   "source": [
    "n[0:6] #rows 0 to 5"
   ]
  },
  {
   "cell_type": "code",
   "execution_count": null,
   "id": "99d8f446",
   "metadata": {},
   "outputs": [
    {
     "data": {
      "text/plain": [
       "array([[38, 24, 28, 25, 12, 12, 14, 36, 14, 25],\n",
       "       [31, 26, 23, 10, 26, 34, 28, 16, 26, 20],\n",
       "       [19, 32, 14, 30, 13, 38, 13, 14, 18, 29],\n",
       "       [24, 17, 22, 32, 36, 13, 34, 28, 10, 36],\n",
       "       [17, 33, 34, 17, 15, 37, 29, 19, 33, 26],\n",
       "       [13, 28, 39, 31, 11, 14, 26, 33, 39, 15],\n",
       "       [21, 17, 11, 19, 24, 20, 30, 22, 20, 38],\n",
       "       [14, 39, 23, 36, 16, 27, 17, 31, 30, 24]])"
      ]
     },
     "execution_count": 69,
     "metadata": {},
     "output_type": "execute_result"
    }
   ],
   "source": [
    "n[::-1] #reverse the rows"
   ]
  },
  {
   "cell_type": "code",
   "execution_count": null,
   "metadata": {},
   "outputs": [
    {
     "data": {
      "text/plain": [
       "array([[38, 24, 28, 25, 12, 12, 14, 36, 14, 25],\n",
       "       [31, 26, 23, 10, 26, 34, 28, 16, 26, 20],\n",
       "       [19, 32, 14, 30, 13, 38, 13, 14, 18, 29],\n",
       "       [24, 17, 22, 32, 36, 13, 34, 28, 10, 36],\n",
       "       [17, 33, 34, 17, 15, 37, 29, 19, 33, 26],\n",
       "       [13, 28, 39, 31, 11, 14, 26, 33, 39, 15],\n",
       "       [21, 17, 11, 19, 24, 20, 30, 22, 20, 38],\n",
       "       [14, 39, 23, 36, 16, 27, 17, 31, 30, 24]])"
      ]
     },
     "execution_count": 70,
     "metadata": {},
     "output_type": "execute_result"
    }
   ],
   "source": [
    "n[::-1] #reverse the Matrix"
   ]
  },
  {
   "cell_type": "code",
   "execution_count": 71,
   "id": "8ce91b07",
   "metadata": {},
   "outputs": [
    {
     "data": {
      "text/plain": [
       "array([[14, 39, 23, 36, 16, 27, 17, 31, 30, 24],\n",
       "       [13, 28, 39, 31, 11, 14, 26, 33, 39, 15],\n",
       "       [24, 17, 22, 32, 36, 13, 34, 28, 10, 36],\n",
       "       [31, 26, 23, 10, 26, 34, 28, 16, 26, 20]])"
      ]
     },
     "execution_count": 71,
     "metadata": {},
     "output_type": "execute_result"
    }
   ],
   "source": [
    "n[::2] #every 2nd row"
   ]
  },
  {
   "cell_type": "code",
   "execution_count": null,
   "id": "0fb4d8ab",
   "metadata": {},
   "outputs": [
    {
     "data": {
      "text/plain": [
       "array([[14, 39, 23, 36, 16, 27, 17, 31, 30, 24],\n",
       "       [21, 17, 11, 19, 24, 20, 30, 22, 20, 38],\n",
       "       [13, 28, 39, 31, 11, 14, 26, 33, 39, 15],\n",
       "       [17, 33, 34, 17, 15, 37, 29, 19, 33, 26],\n",
       "       [24, 17, 22, 32, 36, 13, 34, 28, 10, 36],\n",
       "       [19, 32, 14, 30, 13, 38, 13, 14, 18, 29],\n",
       "       [31, 26, 23, 10, 26, 34, 28, 16, 26, 20],\n",
       "       [38, 24, 28, 25, 12, 12, 14, 36, 14, 25]])"
      ]
     },
     "execution_count": 72,
     "metadata": {},
     "output_type": "execute_result"
    }
   ],
   "source": [
    "n #rows 0 to 5"
   ]
  },
  {
   "cell_type": "code",
   "execution_count": 75,
   "id": "78a4070e",
   "metadata": {},
   "outputs": [
    {
     "data": {
      "text/plain": [
       "array([[14, 39, 23, 36, 16, 27, 17, 31, 30, 24],\n",
       "       [21, 17, 11, 19, 24, 20, 30, 22, 20, 38],\n",
       "       [13, 28, 39, 31, 11, 14, 26, 33, 39, 15],\n",
       "       [17, 33, 34, 17, 15, 37, 29, 19, 33, 26],\n",
       "       [24, 17, 22, 32, 36, 13, 34, 28, 10, 36]])"
      ]
     },
     "execution_count": 75,
     "metadata": {},
     "output_type": "execute_result"
    }
   ],
   "source": [
    "n[0:5] #rows 0 to 4"
   ]
  },
  {
   "cell_type": "code",
   "execution_count": 74,
   "metadata": {},
   "outputs": [
    {
     "data": {
      "text/plain": [
       "27"
      ]
     },
     "execution_count": 74,
     "metadata": {},
     "output_type": "execute_result"
    }
   ],
   "source": [
    "n[0,5] #element at 1st row and 6th column"
   ]
  },
  {
   "cell_type": "code",
   "execution_count": 76,
   "id": "8c12f15f",
   "metadata": {},
   "outputs": [
    {
     "data": {
      "text/plain": [
       "14"
      ]
     },
     "execution_count": 76,
     "metadata": {},
     "output_type": "execute_result"
    }
   ],
   "source": [
    "n[5,-3] #element at 6th row and 3rd last column"
   ]
  },
  {
   "cell_type": "markdown",
   "id": "39420a00",
   "metadata": {},
   "source": [
    "# Reshape"
   ]
  },
  {
   "cell_type": "code",
   "execution_count": null,
   "id": "c118d4d9",
   "metadata": {},
   "outputs": [
    {
     "data": {
      "text/plain": [
       "array([[ 1,  2,  3],\n",
       "       [ 4,  5,  6],\n",
       "       [ 7,  8,  9],\n",
       "       [10, 11, 12]])"
      ]
     },
     "execution_count": 79,
     "metadata": {},
     "output_type": "execute_result"
    }
   ],
   "source": [
    "np.arange(1,13).reshape(4,3) #reshaping 1D array to 2D array with 4 rows and 3 columns"
   ]
  },
  {
   "cell_type": "code",
   "execution_count": null,
   "id": "e739efd3",
   "metadata": {},
   "outputs": [
    {
     "data": {
      "text/plain": [
       "array([[ 1,  2,  3,  4,  5,  6,  7,  8,  9, 10, 11, 12]])"
      ]
     },
     "execution_count": 81,
     "metadata": {},
     "output_type": "execute_result"
    }
   ],
   "source": [
    "np.arange(1,13).reshape(1,12) #reshaping 1D array to 2D array with 1 row and 12 columns"
   ]
  },
  {
   "cell_type": "code",
   "execution_count": 83,
   "id": "1f4abc4d",
   "metadata": {},
   "outputs": [
    {
     "data": {
      "text/plain": [
       "array([[ 1,  2],\n",
       "       [ 3,  4],\n",
       "       [ 5,  6],\n",
       "       [ 7,  8],\n",
       "       [ 9, 10],\n",
       "       [11, 12]])"
      ]
     },
     "execution_count": 83,
     "metadata": {},
     "output_type": "execute_result"
    }
   ],
   "source": [
    "np.arange(1,13).reshape(6,2) #reshaping 1D array to 2D array with 6 rows and 2 columns"
   ]
  },
  {
   "cell_type": "code",
   "execution_count": null,
   "id": "0fe7a9fa",
   "metadata": {},
   "outputs": [],
   "source": []
  },
  {
   "cell_type": "code",
   "execution_count": null,
   "id": "996449d4",
   "metadata": {},
   "outputs": [],
   "source": []
  },
  {
   "cell_type": "code",
   "execution_count": null,
   "id": "47421ced",
   "metadata": {},
   "outputs": [],
   "source": []
  },
  {
   "cell_type": "code",
   "execution_count": null,
   "id": "ecca6272",
   "metadata": {},
   "outputs": [],
   "source": []
  },
  {
   "cell_type": "code",
   "execution_count": null,
   "metadata": {},
   "outputs": [],
   "source": []
  },
  {
   "cell_type": "code",
   "execution_count": null,
   "id": "edd34dc1",
   "metadata": {},
   "outputs": [],
   "source": []
  },
  {
   "cell_type": "code",
   "execution_count": null,
   "metadata": {},
   "outputs": [],
   "source": []
  },
  {
   "cell_type": "code",
   "execution_count": null,
   "id": "bab05e84",
   "metadata": {},
   "outputs": [],
   "source": []
  },
  {
   "cell_type": "code",
   "execution_count": null,
   "metadata": {},
   "outputs": [],
   "source": []
  },
  {
   "cell_type": "code",
   "execution_count": null,
   "id": "6c03edf0",
   "metadata": {},
   "outputs": [],
   "source": []
  },
  {
   "cell_type": "code",
   "execution_count": null,
   "id": "c6a11e58",
   "metadata": {},
   "outputs": [],
   "source": []
  }
 ],
 "metadata": {
  "kernelspec": {
   "display_name": "base",
   "language": "python",
   "name": "python3"
  },
  "language_info": {
   "codemirror_mode": {
    "name": "ipython",
    "version": 3
   },
   "file_extension": ".py",
   "mimetype": "text/x-python",
   "name": "python",
   "nbconvert_exporter": "python",
   "pygments_lexer": "ipython3",
   "version": "3.12.7"
  }
 },
 "nbformat": 4,
 "nbformat_minor": 5
}
